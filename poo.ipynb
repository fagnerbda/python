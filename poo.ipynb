{
  "nbformat": 4,
  "nbformat_minor": 0,
  "metadata": {
    "colab": {
      "provenance": [],
      "authorship_tag": "ABX9TyMgPQi7itWoOq5u1mWO8Pqf",
      "include_colab_link": true
    },
    "kernelspec": {
      "name": "python3",
      "display_name": "Python 3"
    },
    "language_info": {
      "name": "python"
    }
  },
  "cells": [
    {
      "cell_type": "markdown",
      "metadata": {
        "id": "view-in-github",
        "colab_type": "text"
      },
      "source": [
        "<a href=\"https://colab.research.google.com/github/fagnerbda/python/blob/main/poo.ipynb\" target=\"_parent\"><img src=\"https://colab.research.google.com/assets/colab-badge.svg\" alt=\"Open In Colab\"/></a>"
      ]
    },
    {
      "cell_type": "code",
      "execution_count": 3,
      "metadata": {
        "colab": {
          "base_uri": "https://localhost:8080/",
          "height": 133
        },
        "id": "CweWGVAmH-Ma",
        "outputId": "8de95d34-7414-4f04-fa13-ccf853c34c12"
      },
      "outputs": [
        {
          "output_type": "error",
          "ename": "SyntaxError",
          "evalue": "ignored",
          "traceback": [
            "\u001b[0;36m  File \u001b[0;32m\"<ipython-input-3-3876e26dc71f>\"\u001b[0;36m, line \u001b[0;32m1\u001b[0m\n\u001b[0;31m    class LibraryBook\u001b[0m\n\u001b[0m                     ^\u001b[0m\n\u001b[0;31mSyntaxError\u001b[0m\u001b[0;31m:\u001b[0m invalid syntax\n"
          ]
        }
      ],
      "source": [
        "class LibraryBook\n"
      ]
    },
    {
      "cell_type": "code",
      "source": [
        "class LibraryBook:\n",
        "y_book = LibraryBook()\n",
        "my_book"
      ],
      "metadata": {
        "colab": {
          "base_uri": "https://localhost:8080/",
          "height": 133
        },
        "id": "0Lr5tx0IKlfc",
        "outputId": "56f582e6-ac8e-48b8-ac1f-270a237b89a0"
      },
      "execution_count": 6,
      "outputs": [
        {
          "output_type": "error",
          "ename": "IndentationError",
          "evalue": "ignored",
          "traceback": [
            "\u001b[0;36m  File \u001b[0;32m\"<ipython-input-6-999bf11b6eb4>\"\u001b[0;36m, line \u001b[0;32m2\u001b[0m\n\u001b[0;31m    y_book = LibraryBook()\u001b[0m\n\u001b[0m         ^\u001b[0m\n\u001b[0;31mIndentationError\u001b[0m\u001b[0;31m:\u001b[0m expected an indented block\n"
          ]
        }
      ]
    },
    {
      "cell_type": "code",
      "source": [
        "class LibraryBook:\n",
        "  \"\"\"\n",
        "  A library book\n",
        "  \"\"\"\n",
        "\n",
        "\n"
      ],
      "metadata": {
        "id": "SPrSq81OLJL7"
      },
      "execution_count": 18,
      "outputs": []
    },
    {
      "cell_type": "code",
      "source": [
        "my_book = LibraryBook()\n",
        "my_book\n"
      ],
      "metadata": {
        "colab": {
          "base_uri": "https://localhost:8080/"
        },
        "id": "cPxH7fvGLVpL",
        "outputId": "e97ae182-adcc-4951-f41e-c0f8c0e3fc8f"
      },
      "execution_count": 13,
      "outputs": [
        {
          "output_type": "execute_result",
          "data": {
            "text/plain": [
              "<__main__.LibraryBook at 0x7f867be96ad0>"
            ]
          },
          "metadata": {},
          "execution_count": 13
        }
      ]
    },
    {
      "cell_type": "code",
      "source": [
        "type(my_book)"
      ],
      "metadata": {
        "colab": {
          "base_uri": "https://localhost:8080/"
        },
        "id": "dYC2rbc-Lw_8",
        "outputId": "507f0119-0c12-412e-912a-f7e710305889"
      },
      "execution_count": 15,
      "outputs": [
        {
          "output_type": "execute_result",
          "data": {
            "text/plain": [
              "__main__.LibraryBook"
            ]
          },
          "metadata": {},
          "execution_count": 15
        }
      ]
    },
    {
      "cell_type": "code",
      "source": [
        "isinstance(my_book, LibraryBook)\n"
      ],
      "metadata": {
        "colab": {
          "base_uri": "https://localhost:8080/"
        },
        "id": "EDP1Z0uqL-8r",
        "outputId": "43e0ebc4-d859-448f-9bc5-9d1eccb9cfaa"
      },
      "execution_count": 20,
      "outputs": [
        {
          "output_type": "execute_result",
          "data": {
            "text/plain": [
              "False"
            ]
          },
          "metadata": {},
          "execution_count": 20
        }
      ]
    },
    {
      "cell_type": "code",
      "source": [
        "class LibraryBook (object):   \n",
        "\n",
        "\n",
        "      def __init__(self, title, author, pub_year, call_no):\n",
        "          self.title = title\n",
        "          self.author = author\n",
        "          self.year = pub_year\n",
        "          self.call_number = call_no\n",
        "          self.checked_out = False\n",
        "\n",
        "\n",
        "\n",
        "my_book.title = \"Harry Potter and the Philosopher's Stone\"\n",
        "my_book.author = ('Rowling', 'J.K.')\n",
        "my_book.year = 1998\n",
        "my_book.call_number = \"PZ7.R79835\"\n",
        "\n",
        "\n",
        "\n",
        "my_book.author\n",
        "my_book.call_number\n",
        "\n"
      ],
      "metadata": {
        "colab": {
          "base_uri": "https://localhost:8080/",
          "height": 35
        },
        "id": "lqQHGKxENzEb",
        "outputId": "525320c3-8a8a-4d86-ad44-930f4674c724"
      },
      "execution_count": 25,
      "outputs": [
        {
          "output_type": "execute_result",
          "data": {
            "text/plain": [
              "'PZ7.R79835'"
            ],
            "application/vnd.google.colaboratory.intrinsic+json": {
              "type": "string"
            }
          },
          "metadata": {},
          "execution_count": 25
        }
      ]
    },
    {
      "cell_type": "code",
      "source": [
        "class Biblioteca:\n",
        "\n",
        "  pass"
      ],
      "metadata": {
        "id": "t3N33D5xRbws"
      },
      "execution_count": 27,
      "outputs": []
    },
    {
      "cell_type": "code",
      "source": [
        "meu_livro = Biblioteca()\n",
        "meu_livro"
      ],
      "metadata": {
        "colab": {
          "base_uri": "https://localhost:8080/"
        },
        "id": "01b11uRZRkUa",
        "outputId": "a60d8fde-497f-4596-a19a-77fff00baf82"
      },
      "execution_count": 29,
      "outputs": [
        {
          "output_type": "execute_result",
          "data": {
            "text/plain": [
              "<__main__.Biblioteca at 0x7f867b36e710>"
            ]
          },
          "metadata": {},
          "execution_count": 29
        }
      ]
    },
    {
      "cell_type": "code",
      "source": [
        "type(meu_livro)"
      ],
      "metadata": {
        "colab": {
          "base_uri": "https://localhost:8080/"
        },
        "id": "7RPBgEZLRziK",
        "outputId": "d658a7d1-d363-4353-bae2-ee9d1aa4d10a"
      },
      "execution_count": 31,
      "outputs": [
        {
          "output_type": "execute_result",
          "data": {
            "text/plain": [
              "__main__.Biblioteca"
            ]
          },
          "metadata": {},
          "execution_count": 31
        }
      ]
    },
    {
      "cell_type": "code",
      "source": [
        "isinstance(meu_livro,Biblioteca)"
      ],
      "metadata": {
        "colab": {
          "base_uri": "https://localhost:8080/"
        },
        "id": "wj-h29PAR7GM",
        "outputId": "cf22ed12-d15a-4723-af5b-c461d331708a"
      },
      "execution_count": 33,
      "outputs": [
        {
          "output_type": "execute_result",
          "data": {
            "text/plain": [
              "True"
            ]
          },
          "metadata": {},
          "execution_count": 33
        }
      ]
    },
    {
      "cell_type": "code",
      "source": [
        "isinstance(meu_computador,Biblioteca)"
      ],
      "metadata": {
        "colab": {
          "base_uri": "https://localhost:8080/",
          "height": 169
        },
        "id": "Rm9nRilMSKSb",
        "outputId": "d44ddf1b-a3f6-4ae5-da9a-df1dfb51beca"
      },
      "execution_count": 35,
      "outputs": [
        {
          "output_type": "error",
          "ename": "NameError",
          "evalue": "ignored",
          "traceback": [
            "\u001b[0;31m---------------------------------------------------------------------------\u001b[0m",
            "\u001b[0;31mNameError\u001b[0m                                 Traceback (most recent call last)",
            "\u001b[0;32m<ipython-input-35-88aca933d130>\u001b[0m in \u001b[0;36m<module>\u001b[0;34m\u001b[0m\n\u001b[0;32m----> 1\u001b[0;31m \u001b[0misinstance\u001b[0m\u001b[0;34m(\u001b[0m\u001b[0mmeu_computador\u001b[0m\u001b[0;34m,\u001b[0m\u001b[0mBiblioteca\u001b[0m\u001b[0;34m)\u001b[0m\u001b[0;34m\u001b[0m\u001b[0;34m\u001b[0m\u001b[0m\n\u001b[0m",
            "\u001b[0;31mNameError\u001b[0m: name 'meu_computador' is not defined"
          ]
        }
      ]
    },
    {
      "cell_type": "code",
      "source": [
        "class Biblioteca(object):\n",
        "\n",
        "\n",
        "  def __init__(self, titulo, autor, ano_publicacao, numero_edicao):\n",
        "      self.titulo = titulo\n",
        "      self.autor = autor\n",
        "      self.ano_publicacao = ano_publicacao\n",
        "      self.numero_edicao = numero_edicao\n",
        "      self.checagem = False\n",
        "\n",
        "\n",
        "meu_livro.titulo = input(\"Digite o título \") # \"Os sertões\"\n",
        "meu_livro.autor = input(\"Digite o autor  \") #Euclides da Cunha\" \n",
        "meu_livro.ano = input(\"Digite o ano de publicacao\")  #1902\n",
        "meu_livro.numero_edicao = input(\"Digite o ISBN\") # 932J234J12\"\n",
        "\n",
        "\n",
        "    "
      ],
      "metadata": {
        "colab": {
          "base_uri": "https://localhost:8080/"
        },
        "id": "6KPpWOwQTpDb",
        "outputId": "907c0423-8f03-47f7-88ea-c9755fdc4013"
      },
      "execution_count": 42,
      "outputs": [
        {
          "name": "stdout",
          "output_type": "stream",
          "text": [
            "Digite o título o idiota\n",
            "Digite o autor  Fiodor Dostoievski\n",
            "Digite o ano de publicacao1867\n",
            "Digite o ISBNr13jrkljfsakldfj\n"
          ]
        }
      ]
    },
    {
      "cell_type": "code",
      "source": [
        "meu_livro.autor"
      ],
      "metadata": {
        "colab": {
          "base_uri": "https://localhost:8080/",
          "height": 35
        },
        "id": "CTX9EKHzVQ2q",
        "outputId": "81eddddd-76ba-4c80-85c8-82133759acc7"
      },
      "execution_count": 45,
      "outputs": [
        {
          "output_type": "execute_result",
          "data": {
            "text/plain": [
              "'Fiodor Dostoievski'"
            ],
            "application/vnd.google.colaboratory.intrinsic+json": {
              "type": "string"
            }
          },
          "metadata": {},
          "execution_count": 45
        }
      ]
    },
    {
      "cell_type": "code",
      "source": [
        "def titulo_e_autor(self):\n",
        "  return \"{} {} : {}\".format(self.autor[1],self.autor[0],self.titulo)\n",
        "\n",
        "def __str__(self):\n",
        "  return \"{} {} ({}): {}\". format(self.autor[1],self.autor[0],self.ano,self.titulo)\n",
        "\n",
        "def __repr__(self):\n",
        "  return \"<Livro: {} ({})>\".format(self.titulo, self.numero_edicao)"
      ],
      "metadata": {
        "id": "7BzgD2cSWnEr"
      },
      "execution_count": 46,
      "outputs": []
    },
    {
      "cell_type": "code",
      "source": [
        "self.titulo"
      ],
      "metadata": {
        "colab": {
          "base_uri": "https://localhost:8080/",
          "height": 169
        },
        "id": "SQkbBhIPXz0r",
        "outputId": "431bd057-5b8e-48f7-dff6-ba4cb5f6535b"
      },
      "execution_count": 62,
      "outputs": [
        {
          "output_type": "error",
          "ename": "NameError",
          "evalue": "ignored",
          "traceback": [
            "\u001b[0;31m---------------------------------------------------------------------------\u001b[0m",
            "\u001b[0;31mNameError\u001b[0m                                 Traceback (most recent call last)",
            "\u001b[0;32m<ipython-input-62-8b1eb4e2382f>\u001b[0m in \u001b[0;36m<module>\u001b[0;34m\u001b[0m\n\u001b[0;32m----> 1\u001b[0;31m \u001b[0mself\u001b[0m\u001b[0;34m.\u001b[0m\u001b[0mtitulo\u001b[0m\u001b[0;34m\u001b[0m\u001b[0;34m\u001b[0m\u001b[0m\n\u001b[0m",
            "\u001b[0;31mNameError\u001b[0m: name 'self' is not defined"
          ]
        }
      ]
    },
    {
      "cell_type": "code",
      "source": [
        "print(meu_livro)"
      ],
      "metadata": {
        "colab": {
          "base_uri": "https://localhost:8080/"
        },
        "id": "Qr8Y3b81X997",
        "outputId": "bf85dc76-1b7b-41fd-cd0e-3fea2de04521"
      },
      "execution_count": 50,
      "outputs": [
        {
          "output_type": "stream",
          "name": "stdout",
          "text": [
            "<__main__.Biblioteca object at 0x7f867b36e710>\n"
          ]
        }
      ]
    },
    {
      "cell_type": "code",
      "source": [
        "class LibraryBook(object):\n",
        "    \"\"\"\n",
        "    Um livro da biblioteca.\n",
        "    \"\"\"\n",
        "         \n",
        "    def __init__(self, title, author, pub_year, call_no):\n",
        "        self.title = title\n",
        "        self.author = author\n",
        "        self.year = pub_year\n",
        "        self.call_number = call_no\n",
        "    \n",
        "    \"\"\"\n",
        "    Métodos para o LibraryBook\n",
        "    \"\"\"  \n",
        "\n",
        "    # Retorna o título e as informações do autor do livro como uma string\n",
        "    def title_and_author(self):\n",
        "        return \"{} {}: {}\".format(self.author[1], self.author[0], self.title) \n",
        "    \n",
        "    # Imprime todas as informações associadas a um livro neste formato\n",
        "    def __str__(self): # certifique-se de que __str__ retorna uma string!\n",
        "        return \"{} {} ({}): {}\".format(self.author[1], self.author[0], self.year, self.title) \n",
        "\n",
        "    # Retorna uma representação de string do livro com o título e call_number     \n",
        "    def __repr__(self): \n",
        "        return \"<Book: {} ({})>\".format(self.title, self.call_number)"
      ],
      "metadata": {
        "id": "JbL-QS2hYE2r"
      },
      "execution_count": 56,
      "outputs": []
    },
    {
      "cell_type": "code",
      "source": [
        "new_book = LibraryBook(\"Harry Potter and the Sorcerer's Stone\", \n",
        "                       (\"Rowling\",\"J.K.\"), 1998, \"PZ7.R79835\")\n",
        "\n",
        "new_book.title_and_author()"
      ],
      "metadata": {
        "colab": {
          "base_uri": "https://localhost:8080/",
          "height": 35
        },
        "id": "5_0T30QCZFz7",
        "outputId": "1ef29425-a1f8-4d10-ea02-36d975bd8531"
      },
      "execution_count": 57,
      "outputs": [
        {
          "output_type": "execute_result",
          "data": {
            "text/plain": [
              "\"J.K. Rowling: Harry Potter and the Sorcerer's Stone\""
            ],
            "application/vnd.google.colaboratory.intrinsic+json": {
              "type": "string"
            }
          },
          "metadata": {},
          "execution_count": 57
        }
      ]
    }
  ]
}